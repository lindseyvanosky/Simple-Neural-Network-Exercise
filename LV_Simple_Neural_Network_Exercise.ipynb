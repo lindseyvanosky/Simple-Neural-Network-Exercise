{
  "nbformat": 4,
  "nbformat_minor": 0,
  "metadata": {
    "colab": {
      "provenance": [],
      "mount_file_id": "1Yl3nsVXu4EWn3r4MQK8Fz36I6xQ6ip7D",
      "authorship_tag": "ABX9TyON7gLAR6wUNizbmF2JCyrl",
      "include_colab_link": true
    },
    "kernelspec": {
      "name": "python3",
      "display_name": "Python 3"
    },
    "language_info": {
      "name": "python"
    }
  },
  "cells": [
    {
      "cell_type": "markdown",
      "metadata": {
        "id": "view-in-github",
        "colab_type": "text"
      },
      "source": [
        "<a href=\"https://colab.research.google.com/github/lindseyvanosky/Simple-Neural-Network-Exercise/blob/main/LV_Simple_Neural_Network_Exercise.ipynb\" target=\"_parent\"><img src=\"https://colab.research.google.com/assets/colab-badge.svg\" alt=\"Open In Colab\"/></a>"
      ]
    },
    {
      "cell_type": "markdown",
      "source": [
        "#Simple Neural Network Exercise\n",
        "- Lindsey Vanosky \n",
        "- 08.02.22"
      ],
      "metadata": {
        "id": "_ih67vtPO0oH"
      }
    },
    {
      "cell_type": "markdown",
      "source": [
        "#Import, Upload & Inspect"
      ],
      "metadata": {
        "id": "J0P4A1i3PJws"
      }
    },
    {
      "cell_type": "code",
      "execution_count": null,
      "metadata": {
        "id": "nH4DoAwjOtlG"
      },
      "outputs": [],
      "source": [
        "import numpy as np\n",
        "import matplotlib.pyplot as plt\n",
        "import pandas as pd\n",
        "from sklearn.preprocessing import StandardScaler, OneHotEncoder\n",
        "from sklearn.model_selection import train_test_split\n",
        "from tensorflow.keras.models import Sequential\n",
        "from tensorflow.keras.layers import Dense\n",
        "from sklearn.pipeline import make_pipeline\n",
        "from sklearn.compose import make_column_selector, make_column_transformer\n",
        "from sklearn.metrics import mean_absolute_error, mean_squared_error, r2_score, confusion_matrix, ConfusionMatrixDisplay, accuracy_score, precision_score, recall_score, classification_report\n",
        "\n",
        "\n",
        "\n",
        "filename = \"/content/drive/MyDrive/Coding Dojo/03 Stack 3: Advanced Machine Learning/Data Sets/heart - heart.csv\"\n",
        "df = pd.read_csv(filename)"
      ]
    },
    {
      "cell_type": "markdown",
      "source": [
        "#Data Cleaning"
      ],
      "metadata": {
        "id": "vmMB9y6VcDHC"
      }
    },
    {
      "cell_type": "code",
      "source": [
        "df.info()"
      ],
      "metadata": {
        "colab": {
          "base_uri": "https://localhost:8080/"
        },
        "id": "R1o_klO2cFgF",
        "outputId": "20c91a1c-0880-40a8-9406-5bbadb40a6cf"
      },
      "execution_count": null,
      "outputs": [
        {
          "output_type": "stream",
          "name": "stdout",
          "text": [
            "<class 'pandas.core.frame.DataFrame'>\n",
            "RangeIndex: 918 entries, 0 to 917\n",
            "Data columns (total 12 columns):\n",
            " #   Column          Non-Null Count  Dtype  \n",
            "---  ------          --------------  -----  \n",
            " 0   Age             918 non-null    int64  \n",
            " 1   Sex             918 non-null    object \n",
            " 2   ChestPainType   918 non-null    object \n",
            " 3   RestingBP       918 non-null    int64  \n",
            " 4   Cholesterol     918 non-null    int64  \n",
            " 5   FastingBS       918 non-null    int64  \n",
            " 6   RestingECG      918 non-null    object \n",
            " 7   MaxHR           918 non-null    int64  \n",
            " 8   ExerciseAngina  918 non-null    object \n",
            " 9   Oldpeak         918 non-null    float64\n",
            " 10  ST_Slope        918 non-null    object \n",
            " 11  HeartDisease    918 non-null    int64  \n",
            "dtypes: float64(1), int64(6), object(5)\n",
            "memory usage: 86.2+ KB\n"
          ]
        }
      ]
    },
    {
      "cell_type": "code",
      "source": [
        "df.duplicated().sum()"
      ],
      "metadata": {
        "colab": {
          "base_uri": "https://localhost:8080/"
        },
        "id": "mXDdwKcocMFa",
        "outputId": "ece2ce3a-777d-4cb7-ea9b-3b4cd8a1a2a4"
      },
      "execution_count": null,
      "outputs": [
        {
          "output_type": "execute_result",
          "data": {
            "text/plain": [
              "0"
            ]
          },
          "metadata": {},
          "execution_count": 196
        }
      ]
    },
    {
      "cell_type": "code",
      "source": [
        "df.describe()"
      ],
      "metadata": {
        "colab": {
          "base_uri": "https://localhost:8080/",
          "height": 344
        },
        "id": "57_FcGB8dOk-",
        "outputId": "be54b2af-2124-4a6c-bbcd-c45c59c7da5b"
      },
      "execution_count": null,
      "outputs": [
        {
          "output_type": "execute_result",
          "data": {
            "text/plain": [
              "              Age   RestingBP  Cholesterol   FastingBS       MaxHR  \\\n",
              "count  918.000000  918.000000   918.000000  918.000000  918.000000   \n",
              "mean    53.510893  132.396514   198.799564    0.233115  136.809368   \n",
              "std      9.432617   18.514154   109.384145    0.423046   25.460334   \n",
              "min     28.000000    0.000000     0.000000    0.000000   60.000000   \n",
              "25%     47.000000  120.000000   173.250000    0.000000  120.000000   \n",
              "50%     54.000000  130.000000   223.000000    0.000000  138.000000   \n",
              "75%     60.000000  140.000000   267.000000    0.000000  156.000000   \n",
              "max     77.000000  200.000000   603.000000    1.000000  202.000000   \n",
              "\n",
              "          Oldpeak  HeartDisease  \n",
              "count  918.000000    918.000000  \n",
              "mean     0.887364      0.553377  \n",
              "std      1.066570      0.497414  \n",
              "min     -2.600000      0.000000  \n",
              "25%      0.000000      0.000000  \n",
              "50%      0.600000      1.000000  \n",
              "75%      1.500000      1.000000  \n",
              "max      6.200000      1.000000  "
            ],
            "text/html": [
              "\n",
              "  <div id=\"df-d2c9ee8c-2747-4d2c-85b6-b09fe81d1ef3\">\n",
              "    <div class=\"colab-df-container\">\n",
              "      <div>\n",
              "<style scoped>\n",
              "    .dataframe tbody tr th:only-of-type {\n",
              "        vertical-align: middle;\n",
              "    }\n",
              "\n",
              "    .dataframe tbody tr th {\n",
              "        vertical-align: top;\n",
              "    }\n",
              "\n",
              "    .dataframe thead th {\n",
              "        text-align: right;\n",
              "    }\n",
              "</style>\n",
              "<table border=\"1\" class=\"dataframe\">\n",
              "  <thead>\n",
              "    <tr style=\"text-align: right;\">\n",
              "      <th></th>\n",
              "      <th>Age</th>\n",
              "      <th>RestingBP</th>\n",
              "      <th>Cholesterol</th>\n",
              "      <th>FastingBS</th>\n",
              "      <th>MaxHR</th>\n",
              "      <th>Oldpeak</th>\n",
              "      <th>HeartDisease</th>\n",
              "    </tr>\n",
              "  </thead>\n",
              "  <tbody>\n",
              "    <tr>\n",
              "      <th>count</th>\n",
              "      <td>918.000000</td>\n",
              "      <td>918.000000</td>\n",
              "      <td>918.000000</td>\n",
              "      <td>918.000000</td>\n",
              "      <td>918.000000</td>\n",
              "      <td>918.000000</td>\n",
              "      <td>918.000000</td>\n",
              "    </tr>\n",
              "    <tr>\n",
              "      <th>mean</th>\n",
              "      <td>53.510893</td>\n",
              "      <td>132.396514</td>\n",
              "      <td>198.799564</td>\n",
              "      <td>0.233115</td>\n",
              "      <td>136.809368</td>\n",
              "      <td>0.887364</td>\n",
              "      <td>0.553377</td>\n",
              "    </tr>\n",
              "    <tr>\n",
              "      <th>std</th>\n",
              "      <td>9.432617</td>\n",
              "      <td>18.514154</td>\n",
              "      <td>109.384145</td>\n",
              "      <td>0.423046</td>\n",
              "      <td>25.460334</td>\n",
              "      <td>1.066570</td>\n",
              "      <td>0.497414</td>\n",
              "    </tr>\n",
              "    <tr>\n",
              "      <th>min</th>\n",
              "      <td>28.000000</td>\n",
              "      <td>0.000000</td>\n",
              "      <td>0.000000</td>\n",
              "      <td>0.000000</td>\n",
              "      <td>60.000000</td>\n",
              "      <td>-2.600000</td>\n",
              "      <td>0.000000</td>\n",
              "    </tr>\n",
              "    <tr>\n",
              "      <th>25%</th>\n",
              "      <td>47.000000</td>\n",
              "      <td>120.000000</td>\n",
              "      <td>173.250000</td>\n",
              "      <td>0.000000</td>\n",
              "      <td>120.000000</td>\n",
              "      <td>0.000000</td>\n",
              "      <td>0.000000</td>\n",
              "    </tr>\n",
              "    <tr>\n",
              "      <th>50%</th>\n",
              "      <td>54.000000</td>\n",
              "      <td>130.000000</td>\n",
              "      <td>223.000000</td>\n",
              "      <td>0.000000</td>\n",
              "      <td>138.000000</td>\n",
              "      <td>0.600000</td>\n",
              "      <td>1.000000</td>\n",
              "    </tr>\n",
              "    <tr>\n",
              "      <th>75%</th>\n",
              "      <td>60.000000</td>\n",
              "      <td>140.000000</td>\n",
              "      <td>267.000000</td>\n",
              "      <td>0.000000</td>\n",
              "      <td>156.000000</td>\n",
              "      <td>1.500000</td>\n",
              "      <td>1.000000</td>\n",
              "    </tr>\n",
              "    <tr>\n",
              "      <th>max</th>\n",
              "      <td>77.000000</td>\n",
              "      <td>200.000000</td>\n",
              "      <td>603.000000</td>\n",
              "      <td>1.000000</td>\n",
              "      <td>202.000000</td>\n",
              "      <td>6.200000</td>\n",
              "      <td>1.000000</td>\n",
              "    </tr>\n",
              "  </tbody>\n",
              "</table>\n",
              "</div>\n",
              "      <button class=\"colab-df-convert\" onclick=\"convertToInteractive('df-d2c9ee8c-2747-4d2c-85b6-b09fe81d1ef3')\"\n",
              "              title=\"Convert this dataframe to an interactive table.\"\n",
              "              style=\"display:none;\">\n",
              "        \n",
              "  <svg xmlns=\"http://www.w3.org/2000/svg\" height=\"24px\"viewBox=\"0 0 24 24\"\n",
              "       width=\"24px\">\n",
              "    <path d=\"M0 0h24v24H0V0z\" fill=\"none\"/>\n",
              "    <path d=\"M18.56 5.44l.94 2.06.94-2.06 2.06-.94-2.06-.94-.94-2.06-.94 2.06-2.06.94zm-11 1L8.5 8.5l.94-2.06 2.06-.94-2.06-.94L8.5 2.5l-.94 2.06-2.06.94zm10 10l.94 2.06.94-2.06 2.06-.94-2.06-.94-.94-2.06-.94 2.06-2.06.94z\"/><path d=\"M17.41 7.96l-1.37-1.37c-.4-.4-.92-.59-1.43-.59-.52 0-1.04.2-1.43.59L10.3 9.45l-7.72 7.72c-.78.78-.78 2.05 0 2.83L4 21.41c.39.39.9.59 1.41.59.51 0 1.02-.2 1.41-.59l7.78-7.78 2.81-2.81c.8-.78.8-2.07 0-2.86zM5.41 20L4 18.59l7.72-7.72 1.47 1.35L5.41 20z\"/>\n",
              "  </svg>\n",
              "      </button>\n",
              "      \n",
              "  <style>\n",
              "    .colab-df-container {\n",
              "      display:flex;\n",
              "      flex-wrap:wrap;\n",
              "      gap: 12px;\n",
              "    }\n",
              "\n",
              "    .colab-df-convert {\n",
              "      background-color: #E8F0FE;\n",
              "      border: none;\n",
              "      border-radius: 50%;\n",
              "      cursor: pointer;\n",
              "      display: none;\n",
              "      fill: #1967D2;\n",
              "      height: 32px;\n",
              "      padding: 0 0 0 0;\n",
              "      width: 32px;\n",
              "    }\n",
              "\n",
              "    .colab-df-convert:hover {\n",
              "      background-color: #E2EBFA;\n",
              "      box-shadow: 0px 1px 2px rgba(60, 64, 67, 0.3), 0px 1px 3px 1px rgba(60, 64, 67, 0.15);\n",
              "      fill: #174EA6;\n",
              "    }\n",
              "\n",
              "    [theme=dark] .colab-df-convert {\n",
              "      background-color: #3B4455;\n",
              "      fill: #D2E3FC;\n",
              "    }\n",
              "\n",
              "    [theme=dark] .colab-df-convert:hover {\n",
              "      background-color: #434B5C;\n",
              "      box-shadow: 0px 1px 3px 1px rgba(0, 0, 0, 0.15);\n",
              "      filter: drop-shadow(0px 1px 2px rgba(0, 0, 0, 0.3));\n",
              "      fill: #FFFFFF;\n",
              "    }\n",
              "  </style>\n",
              "\n",
              "      <script>\n",
              "        const buttonEl =\n",
              "          document.querySelector('#df-d2c9ee8c-2747-4d2c-85b6-b09fe81d1ef3 button.colab-df-convert');\n",
              "        buttonEl.style.display =\n",
              "          google.colab.kernel.accessAllowed ? 'block' : 'none';\n",
              "\n",
              "        async function convertToInteractive(key) {\n",
              "          const element = document.querySelector('#df-d2c9ee8c-2747-4d2c-85b6-b09fe81d1ef3');\n",
              "          const dataTable =\n",
              "            await google.colab.kernel.invokeFunction('convertToInteractive',\n",
              "                                                     [key], {});\n",
              "          if (!dataTable) return;\n",
              "\n",
              "          const docLinkHtml = 'Like what you see? Visit the ' +\n",
              "            '<a target=\"_blank\" href=https://colab.research.google.com/notebooks/data_table.ipynb>data table notebook</a>'\n",
              "            + ' to learn more about interactive tables.';\n",
              "          element.innerHTML = '';\n",
              "          dataTable['output_type'] = 'display_data';\n",
              "          await google.colab.output.renderOutput(dataTable, element);\n",
              "          const docLink = document.createElement('div');\n",
              "          docLink.innerHTML = docLinkHtml;\n",
              "          element.appendChild(docLink);\n",
              "        }\n",
              "      </script>\n",
              "    </div>\n",
              "  </div>\n",
              "  "
            ]
          },
          "metadata": {},
          "execution_count": 197
        }
      ]
    },
    {
      "cell_type": "markdown",
      "source": [
        "#Preprocessing"
      ],
      "metadata": {
        "id": "S-eCZVz6cgIM"
      }
    },
    {
      "cell_type": "code",
      "source": [
        "x = df.drop(columns = [\"HeartDisease\"])\n",
        "y = df[\"HeartDisease\"]\n",
        "\n",
        "x_train, x_test, y_train, y_test = train_test_split(x, y, random_state = 42)"
      ],
      "metadata": {
        "id": "DatiNqmFcjlx"
      },
      "execution_count": null,
      "outputs": []
    },
    {
      "cell_type": "code",
      "source": [
        "scaler = StandardScaler()\n",
        "ohe = OneHotEncoder(handle_unknown = \"ignore\", sparse = False)\n",
        "\n",
        "num_select = make_column_selector(dtype_include = \"number\")\n",
        "cat_select = make_column_selector(dtype_include = \"object\")\n",
        "\n",
        "num_pipe = make_pipeline(scaler)\n",
        "cat_pipe = make_pipeline(ohe)\n",
        "\n",
        "num_tupe = (num_pipe, num_select)\n",
        "cat_tupe = (cat_pipe, cat_select)\n",
        "\n",
        "preprocessor = make_column_transformer(num_tupe, cat_tupe)"
      ],
      "metadata": {
        "id": "_k6Ut5UrfMWu"
      },
      "execution_count": null,
      "outputs": []
    },
    {
      "cell_type": "code",
      "source": [
        "preprocessor.fit(x_train, y_train)"
      ],
      "metadata": {
        "colab": {
          "base_uri": "https://localhost:8080/"
        },
        "id": "7zm_P0w2iIpr",
        "outputId": "e7d81d60-1d05-4e1e-f0af-361e033a6966"
      },
      "execution_count": null,
      "outputs": [
        {
          "output_type": "execute_result",
          "data": {
            "text/plain": [
              "ColumnTransformer(transformers=[('pipeline-1',\n",
              "                                 Pipeline(steps=[('standardscaler',\n",
              "                                                  StandardScaler())]),\n",
              "                                 <sklearn.compose._column_transformer.make_column_selector object at 0x7fe9bdfd5410>),\n",
              "                                ('pipeline-2',\n",
              "                                 Pipeline(steps=[('onehotencoder',\n",
              "                                                  OneHotEncoder(handle_unknown='ignore',\n",
              "                                                                sparse=False))]),\n",
              "                                 <sklearn.compose._column_transformer.make_column_selector object at 0x7fe9bdfd5310>)])"
            ]
          },
          "metadata": {},
          "execution_count": 200
        }
      ]
    },
    {
      "cell_type": "code",
      "source": [
        "x_train_processed = preprocessor.transform(x_train)\n",
        "x_test_processed = preprocessor.transform(x_test)\n"
      ],
      "metadata": {
        "id": "kkg-YYaljrfc"
      },
      "execution_count": null,
      "outputs": []
    },
    {
      "cell_type": "markdown",
      "source": [
        "#Model 1"
      ],
      "metadata": {
        "id": "2lwFL3xu1OuF"
      }
    },
    {
      "cell_type": "markdown",
      "source": [
        "##Instantiation "
      ],
      "metadata": {
        "id": "K6nwP74lkGFl"
      }
    },
    {
      "cell_type": "code",
      "source": [
        "input_shape = x_train_processed.shape[1]\n",
        "input_shape"
      ],
      "metadata": {
        "colab": {
          "base_uri": "https://localhost:8080/"
        },
        "id": "mLqLixHwkMdz",
        "outputId": "f54ba2ce-5bc8-4da8-d333-f1b5af23efb2"
      },
      "execution_count": null,
      "outputs": [
        {
          "output_type": "execute_result",
          "data": {
            "text/plain": [
              "20"
            ]
          },
          "metadata": {},
          "execution_count": 202
        }
      ]
    },
    {
      "cell_type": "code",
      "source": [
        "model = Sequential()\n",
        "\n",
        "#first hidden layer\n",
        "model.add(Dense(20, input_dim = input_shape, activation = \"relu\"))\n",
        "\n",
        "#second hidden layer\n",
        "model.add(Dense(10, activation = \"relu\"))\n",
        "\n",
        "#output layer\n",
        "model.add(Dense(1, activation = \"sigmoid\"))"
      ],
      "metadata": {
        "id": "iiDgs0qemJQD"
      },
      "execution_count": null,
      "outputs": []
    },
    {
      "cell_type": "markdown",
      "source": [
        "##Compiling & Fitting the Model"
      ],
      "metadata": {
        "id": "iCNATMoPnhMN"
      }
    },
    {
      "cell_type": "code",
      "source": [
        "model.compile(loss = \"bce\", optimizer = \"adam\")"
      ],
      "metadata": {
        "id": "OWA00w5rnjqr"
      },
      "execution_count": null,
      "outputs": []
    },
    {
      "cell_type": "code",
      "source": [
        "x_train_processed = pd.DataFrame(x_train_processed)\n",
        "x_test_processed = pd.DataFrame(x_test_processed)\n",
        "y_train = pd.DataFrame(y_train)\n",
        "y_test = pd.DataFrame(y_test)"
      ],
      "metadata": {
        "id": "oOxgSuurqXYR"
      },
      "execution_count": null,
      "outputs": []
    },
    {
      "cell_type": "code",
      "source": [
        "history = model.fit(x_train_processed, y_train, validation_data = (x_test_processed, y_test), epochs = 10)"
      ],
      "metadata": {
        "colab": {
          "base_uri": "https://localhost:8080/"
        },
        "id": "uuINlUHLny6m",
        "outputId": "84ed4acd-7f19-41ff-870a-f82534e28e57"
      },
      "execution_count": null,
      "outputs": [
        {
          "output_type": "stream",
          "name": "stdout",
          "text": [
            "Epoch 1/10\n",
            "22/22 [==============================] - 1s 11ms/step - loss: 0.6106 - val_loss: 0.5589\n",
            "Epoch 2/10\n",
            "22/22 [==============================] - 0s 4ms/step - loss: 0.5347 - val_loss: 0.4910\n",
            "Epoch 3/10\n",
            "22/22 [==============================] - 0s 4ms/step - loss: 0.4749 - val_loss: 0.4384\n",
            "Epoch 4/10\n",
            "22/22 [==============================] - 0s 4ms/step - loss: 0.4278 - val_loss: 0.3976\n",
            "Epoch 5/10\n",
            "22/22 [==============================] - 0s 4ms/step - loss: 0.3925 - val_loss: 0.3744\n",
            "Epoch 6/10\n",
            "22/22 [==============================] - 0s 3ms/step - loss: 0.3711 - val_loss: 0.3579\n",
            "Epoch 7/10\n",
            "22/22 [==============================] - 0s 4ms/step - loss: 0.3553 - val_loss: 0.3498\n",
            "Epoch 8/10\n",
            "22/22 [==============================] - 0s 4ms/step - loss: 0.3446 - val_loss: 0.3449\n",
            "Epoch 9/10\n",
            "22/22 [==============================] - 0s 4ms/step - loss: 0.3364 - val_loss: 0.3389\n",
            "Epoch 10/10\n",
            "22/22 [==============================] - 0s 4ms/step - loss: 0.3302 - val_loss: 0.3347\n"
          ]
        }
      ]
    },
    {
      "cell_type": "code",
      "source": [
        "plt.plot(history.history[\"loss\"], label = \"Train loss\")\n",
        "plt.plot(history.history[\"val_loss\"], label = \"Test Loss\")\n",
        "plt.legend();"
      ],
      "metadata": {
        "id": "B6xZ7dCMuLRg",
        "colab": {
          "base_uri": "https://localhost:8080/",
          "height": 265
        },
        "outputId": "ef752d96-4c0d-4004-e916-ae5e5522105c"
      },
      "execution_count": null,
      "outputs": [
        {
          "output_type": "display_data",
          "data": {
            "text/plain": [
              "<Figure size 432x288 with 1 Axes>"
            ],
            "image/png": "[encoded data removed]"
          },
          "metadata": {
            "needs_background": "light"
          }
        }
      ]
    },
    {
      "cell_type": "markdown",
      "source": [
        "With 10 epochs, 20 first layer nodes and 10 second layer node we were able to get a test score of 0.33. "
      ],
      "metadata": {
        "id": "zLKB1gR1zkGP"
      }
    },
    {
      "cell_type": "markdown",
      "source": [
        "#Model 2"
      ],
      "metadata": {
        "id": "Yem2EjGGz5-l"
      }
    },
    {
      "cell_type": "code",
      "source": [
        "model_2 = Sequential()\n",
        "\n",
        "#first hidden layer\n",
        "model_2.add(Dense(15, input_dim = input_shape, activation = \"relu\"))\n",
        "\n",
        "#second hidden layer\n",
        "model_2.add(Dense(7, activation = \"relu\"))\n",
        "\n",
        "#output layer\n",
        "model_2.add(Dense(1, activation = \"sigmoid\"))"
      ],
      "metadata": {
        "id": "hMDmuMk3z70E"
      },
      "execution_count": null,
      "outputs": []
    },
    {
      "cell_type": "code",
      "source": [
        "model_2.compile(loss = \"bce\", optimizer = \"adam\")"
      ],
      "metadata": {
        "id": "H3JujnsL0vka"
      },
      "execution_count": null,
      "outputs": []
    },
    {
      "cell_type": "code",
      "source": [
        "history_2 = model_2.fit(x_train_processed, y_train, validation_data = (x_test_processed, y_test), epochs = 12)"
      ],
      "metadata": {
        "colab": {
          "base_uri": "https://localhost:8080/"
        },
        "id": "3LK06JRE02Qd",
        "outputId": "354ef11c-0fbc-4431-8a76-5a732f14b886"
      },
      "execution_count": null,
      "outputs": [
        {
          "output_type": "stream",
          "name": "stdout",
          "text": [
            "Epoch 1/12\n",
            "22/22 [==============================] - 1s 14ms/step - loss: 0.7371 - val_loss: 0.6966\n",
            "Epoch 2/12\n",
            "22/22 [==============================] - 0s 5ms/step - loss: 0.6872 - val_loss: 0.6581\n",
            "Epoch 3/12\n",
            "22/22 [==============================] - 0s 5ms/step - loss: 0.6482 - val_loss: 0.6217\n",
            "Epoch 4/12\n",
            "22/22 [==============================] - 0s 6ms/step - loss: 0.6134 - val_loss: 0.5847\n",
            "Epoch 5/12\n",
            "22/22 [==============================] - 0s 5ms/step - loss: 0.5797 - val_loss: 0.5513\n",
            "Epoch 6/12\n",
            "22/22 [==============================] - 0s 5ms/step - loss: 0.5499 - val_loss: 0.5186\n",
            "Epoch 7/12\n",
            "22/22 [==============================] - 0s 5ms/step - loss: 0.5214 - val_loss: 0.4902\n",
            "Epoch 8/12\n",
            "22/22 [==============================] - 0s 4ms/step - loss: 0.4971 - val_loss: 0.4638\n",
            "Epoch 9/12\n",
            "22/22 [==============================] - 0s 3ms/step - loss: 0.4735 - val_loss: 0.4393\n",
            "Epoch 10/12\n",
            "22/22 [==============================] - 0s 3ms/step - loss: 0.4518 - val_loss: 0.4171\n",
            "Epoch 11/12\n",
            "22/22 [==============================] - 0s 3ms/step - loss: 0.4301 - val_loss: 0.3991\n",
            "Epoch 12/12\n",
            "22/22 [==============================] - 0s 3ms/step - loss: 0.4097 - val_loss: 0.3829\n"
          ]
        }
      ]
    },
    {
      "cell_type": "code",
      "source": [
        "plt.plot(history_2.history[\"loss\"], label = \"Train loss\")\n",
        "plt.plot(history_2.history[\"val_loss\"], label = \"Test Loss\")\n",
        "plt.legend();"
      ],
      "metadata": {
        "colab": {
          "base_uri": "https://localhost:8080/",
          "height": 267
        },
        "id": "IaEiFyXn0-oz",
        "outputId": "bf237aed-482e-493f-ceb7-00d7d62fb023"
      },
      "execution_count": null,
      "outputs": [
        {
          "output_type": "display_data",
          "data": {
            "text/plain": [
              "<Figure size 432x288 with 1 Axes>"
            ],
            "image/png": "[encoded data removed]"
          },
          "metadata": {
            "needs_background": "light"
          }
        }
      ]
    },
    {
      "cell_type": "markdown",
      "source": [
        "Model 2 used 15 first layer nodes, 7 second layer nodes and 12 epochs. The loss score resulted in .38, a slight increase. "
      ],
      "metadata": {
        "id": "lA7O9kWG1YEo"
      }
    },
    {
      "cell_type": "markdown",
      "source": [
        "#Model 3"
      ],
      "metadata": {
        "id": "sMrtaIFT1jx3"
      }
    },
    {
      "cell_type": "code",
      "source": [
        "model_3 = Sequential()\n",
        "\n",
        "#first hidden layer\n",
        "model_3.add(Dense(12, input_dim = input_shape, activation = \"relu\"))\n",
        "\n",
        "#second hidden layer\n",
        "model_3.add(Dense(8, activation = \"relu\"))\n",
        "\n",
        "#output layer\n",
        "model_3.add(Dense(1, activation = \"sigmoid\"))"
      ],
      "metadata": {
        "id": "Ow9pLQlY1mhI"
      },
      "execution_count": null,
      "outputs": []
    },
    {
      "cell_type": "code",
      "source": [
        "model_3.compile(loss = \"bce\", optimizer = \"adam\")"
      ],
      "metadata": {
        "id": "v925G87F2UkD"
      },
      "execution_count": null,
      "outputs": []
    },
    {
      "cell_type": "code",
      "source": [
        "history_3 = model_3.fit(x_train_processed, y_train, validation_data = (x_test_processed, y_test), epochs = 15)"
      ],
      "metadata": {
        "colab": {
          "base_uri": "https://localhost:8080/"
        },
        "id": "MethzIzo2YVe",
        "outputId": "6c7a4c93-622a-4dd7-9245-8c594f8fdf08"
      },
      "execution_count": null,
      "outputs": [
        {
          "output_type": "stream",
          "name": "stdout",
          "text": [
            "Epoch 1/15\n",
            "22/22 [==============================] - 0s 8ms/step - loss: 0.3905 - val_loss: 0.3824\n",
            "Epoch 2/15\n",
            "22/22 [==============================] - 0s 6ms/step - loss: 0.3761 - val_loss: 0.3699\n",
            "Epoch 3/15\n",
            "22/22 [==============================] - 0s 6ms/step - loss: 0.3640 - val_loss: 0.3609\n",
            "Epoch 4/15\n",
            "22/22 [==============================] - 0s 5ms/step - loss: 0.3529 - val_loss: 0.3484\n",
            "Epoch 5/15\n",
            "22/22 [==============================] - 0s 4ms/step - loss: 0.3447 - val_loss: 0.3408\n",
            "Epoch 6/15\n",
            "22/22 [==============================] - 0s 4ms/step - loss: 0.3380 - val_loss: 0.3375\n",
            "Epoch 7/15\n",
            "22/22 [==============================] - 0s 4ms/step - loss: 0.3330 - val_loss: 0.3309\n",
            "Epoch 8/15\n",
            "22/22 [==============================] - 0s 3ms/step - loss: 0.3294 - val_loss: 0.3298\n",
            "Epoch 9/15\n",
            "22/22 [==============================] - 0s 3ms/step - loss: 0.3253 - val_loss: 0.3249\n",
            "Epoch 10/15\n",
            "22/22 [==============================] - 0s 3ms/step - loss: 0.3223 - val_loss: 0.3223\n",
            "Epoch 11/15\n",
            "22/22 [==============================] - 0s 4ms/step - loss: 0.3205 - val_loss: 0.3262\n",
            "Epoch 12/15\n",
            "22/22 [==============================] - 0s 4ms/step - loss: 0.3172 - val_loss: 0.3187\n",
            "Epoch 13/15\n",
            "22/22 [==============================] - 0s 3ms/step - loss: 0.3149 - val_loss: 0.3156\n",
            "Epoch 14/15\n",
            "22/22 [==============================] - 0s 3ms/step - loss: 0.3136 - val_loss: 0.3161\n",
            "Epoch 15/15\n",
            "22/22 [==============================] - 0s 3ms/step - loss: 0.3113 - val_loss: 0.3131\n"
          ]
        }
      ]
    },
    {
      "cell_type": "markdown",
      "source": [
        "This was our best scoring model with 12 first layer nodes, 8 second layer nodes and 15 epochs. We were able to get our loss score down to .31"
      ],
      "metadata": {
        "id": "6DhhmRlN3dxw"
      }
    }
  ]
}